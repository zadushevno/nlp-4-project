{
  "cells": [
    {
      "cell_type": "code",
      "source": [
        "%%capture\n",
        "! wget https://raw.githubusercontent.com/zadushevno/nlp-4-project/main/aspect_sentiment/pred_aspects_with_sent.txt\n",
        "! wget https://raw.githubusercontent.com/zadushevno/nlp-4-project/main/category_sentiment/pred_full_results.txt\n",
        "! wget https://raw.githubusercontent.com/named-entity/hse-nlp/master/4th_year/Project/dev_aspects.txt\n",
        "! wget https://raw.githubusercontent.com/named-entity/hse-nlp/master/4th_year/Project/dev_cats.txt"
      ],
      "metadata": {
        "id": "fp72vLYQUcNa"
      },
      "id": "fp72vLYQUcNa",
      "execution_count": 13,
      "outputs": []
    },
    {
      "cell_type": "code",
      "execution_count": 2,
      "id": "3d42dcf3",
      "metadata": {
        "id": "3d42dcf3"
      },
      "outputs": [],
      "source": [
        "gold_test_path = \"dev_aspects.txt\"\n",
        "pred_test_path = \"pred_aspects_with_sent.txt\""
      ]
    },
    {
      "cell_type": "markdown",
      "id": "f8e5a9cd",
      "metadata": {
        "id": "f8e5a9cd"
      },
      "source": [
        "# Оценка 1: accuracy по выделению упоминаний с категориями"
      ]
    },
    {
      "cell_type": "code",
      "execution_count": 3,
      "id": "0c3bf6ae",
      "metadata": {
        "id": "0c3bf6ae"
      },
      "outputs": [],
      "source": [
        "from collections import defaultdict"
      ]
    },
    {
      "cell_type": "code",
      "execution_count": 4,
      "id": "8fb687e6",
      "metadata": {
        "id": "8fb687e6"
      },
      "outputs": [],
      "source": [
        "gold_aspect_cats = {}\n",
        "with open(gold_test_path) as fg:\n",
        "    for line in fg:\n",
        "        line = line.rstrip('\\r\\n').split('\\t')\n",
        "        if line[0] not in gold_aspect_cats:\n",
        "            gold_aspect_cats[line[0]] = {\"starts\":[], \"ends\":[], \"cats\":[], \"sents\":[]}\n",
        "        gold_aspect_cats[line[0]][\"starts\"].append(int(line[3]))\n",
        "        gold_aspect_cats[line[0]][\"ends\"].append(int(line[4]))\n",
        "        gold_aspect_cats[line[0]][\"cats\"].append(line[1])\n",
        "        gold_aspect_cats[line[0]][\"sents\"].append(line[5])"
      ]
    },
    {
      "cell_type": "code",
      "execution_count": 5,
      "id": "72d03788",
      "metadata": {
        "id": "72d03788"
      },
      "outputs": [],
      "source": [
        "full_match, partial_match, full_cat_match, partial_cat_match = 0, 0, 0, 0\n",
        "total = 0\n",
        "fully_matched_pairs = []\n",
        "partially_matched_pairs = []\n",
        "with open(pred_test_path) as fp:\n",
        "    for line in fp:\n",
        "        total += 1\n",
        "        line = line.rstrip('\\r\\n').split('\\t')\n",
        "        start, end = int(line[3]), int(line[4])\n",
        "        category = line[1]\n",
        "        doc_gold_aspect_cats = gold_aspect_cats[line[0]]\n",
        "        if start in doc_gold_aspect_cats[\"starts\"]:\n",
        "            i = doc_gold_aspect_cats[\"starts\"].index(start)\n",
        "            if doc_gold_aspect_cats[\"ends\"][i] == end:\n",
        "                full_match += 1\n",
        "                if doc_gold_aspect_cats[\"cats\"][i] == category:\n",
        "                    full_cat_match += 1\n",
        "                else:\n",
        "                    partial_cat_match += 1\n",
        "                fully_matched_pairs.append(\n",
        "                    (\n",
        "                        [\n",
        "                            doc_gold_aspect_cats[\"starts\"][i],\n",
        "                            doc_gold_aspect_cats[\"ends\"][i],\n",
        "                            doc_gold_aspect_cats[\"cats\"][i],\n",
        "                            doc_gold_aspect_cats[\"sents\"][i]\n",
        "                        ],\n",
        "                        line\n",
        "                    )\n",
        "                )\n",
        "                continue\n",
        "        for s_pos in doc_gold_aspect_cats[\"starts\"]:\n",
        "            if start <= s_pos:\n",
        "                i = doc_gold_aspect_cats[\"starts\"].index(s_pos)\n",
        "                if doc_gold_aspect_cats[\"ends\"][i] == end:\n",
        "                    partial_match += 1\n",
        "                    partially_matched_pairs.append(\n",
        "                        (\n",
        "                            [\n",
        "                                doc_gold_aspect_cats[\"starts\"][i],\n",
        "                                doc_gold_aspect_cats[\"ends\"][i],\n",
        "                                doc_gold_aspect_cats[\"cats\"][i],\n",
        "                                doc_gold_aspect_cats[\"sents\"][i]\n",
        "                            ],\n",
        "                            line\n",
        "                        )\n",
        "                    )\n",
        "                    if doc_gold_aspect_cats[\"cats\"][i] == category:\n",
        "                        partial_cat_match += 1\n",
        "                    continue\n",
        "                matched = False\n",
        "                for e_pos in doc_gold_aspect_cats[\"ends\"][i:]:\n",
        "                    if s_pos <= end <= e_pos:\n",
        "                        partial_match += 1\n",
        "                        partially_matched_pairs.append(\n",
        "                            (\n",
        "                                [\n",
        "                                    doc_gold_aspect_cats[\"starts\"][i],\n",
        "                                    doc_gold_aspect_cats[\"ends\"][i],\n",
        "                                    doc_gold_aspect_cats[\"cats\"][i],\n",
        "                                    doc_gold_aspect_cats[\"sents\"][i]\n",
        "                                ],\n",
        "                                line\n",
        "                            )\n",
        "                        )\n",
        "                        if doc_gold_aspect_cats[\"cats\"][i] == category:\n",
        "                            partial_cat_match += 1\n",
        "                        matched = True\n",
        "                        break\n",
        "                if matched:\n",
        "                    break\n",
        "            if start > s_pos:\n",
        "                i = doc_gold_aspect_cats[\"starts\"].index(s_pos)\n",
        "                if start < doc_gold_aspect_cats[\"ends\"][i] <= end:\n",
        "                    partial_match += 1\n",
        "                    partially_matched_pairs.append(\n",
        "                        (\n",
        "                            [\n",
        "                                doc_gold_aspect_cats[\"starts\"][i],\n",
        "                                doc_gold_aspect_cats[\"ends\"][i],\n",
        "                                doc_gold_aspect_cats[\"cats\"][i],\n",
        "                                doc_gold_aspect_cats[\"sents\"][i]\n",
        "                            ],\n",
        "                            line\n",
        "                        )\n",
        "                    )\n",
        "                    if doc_gold_aspect_cats[\"cats\"][i] == category:\n",
        "                        partial_cat_match += 1\n",
        "                    break"
      ]
    },
    {
      "cell_type": "code",
      "execution_count": 6,
      "id": "875e62bc",
      "metadata": {
        "id": "875e62bc"
      },
      "outputs": [],
      "source": [
        "gold_size = sum([len(gold_aspect_cats[x][\"cats\"]) for x in gold_aspect_cats])"
      ]
    },
    {
      "cell_type": "code",
      "execution_count": 7,
      "id": "f0140d3a",
      "metadata": {
        "colab": {
          "base_uri": "https://localhost:8080/"
        },
        "id": "f0140d3a",
        "outputId": "af96f099-df53-42c4-9a92-807c673ab803"
      },
      "outputs": [
        {
          "output_type": "stream",
          "name": "stdout",
          "text": [
            "\n",
            "Full match precision: 0.866779089376054\n",
            "Full match recall: 0.8638655462184874\n",
            "Partial match ratio in pred: 0.9308600337268128\n",
            "Full category accuracy: 0.8566610455311973\n",
            "Partial category accuracy: 0.9300168634064081\n",
            "\n"
          ]
        }
      ],
      "source": [
        "print(f\"\"\"\n",
        "Full match precision: {full_match / total}\n",
        "Full match recall: {full_match / gold_size}\n",
        "Partial match ratio in pred: {(full_match + partial_match)  / total}\n",
        "Full category accuracy: {full_cat_match / total}\n",
        "Partial category accuracy: {(full_cat_match + partial_cat_match) / total}\n",
        "\"\"\")\n"
      ]
    },
    {
      "cell_type": "markdown",
      "id": "74fd3833",
      "metadata": {
        "id": "74fd3833"
      },
      "source": [
        "# Оценка 2: accuracy по тональности упоминаний"
      ]
    },
    {
      "cell_type": "code",
      "execution_count": 8,
      "id": "af14b470",
      "metadata": {
        "id": "af14b470"
      },
      "outputs": [],
      "source": [
        "def sentiment_accuracy(matches):\n",
        "    matched_sentiment = 0.\n",
        "    for pair in matches:\n",
        "        *_, gold_s = pair[0]\n",
        "        *_, pred_s = pair[1]\n",
        "        if gold_s == pred_s:\n",
        "            matched_sentiment += 1\n",
        "    print(f\"Mention sentiment accuracy: {matched_sentiment / len(matches)}\")"
      ]
    },
    {
      "cell_type": "markdown",
      "id": "b2433a85",
      "metadata": {
        "id": "b2433a85"
      },
      "source": [
        "Accuracy по полностью совпавшим упоминаниям:"
      ]
    },
    {
      "cell_type": "code",
      "execution_count": 9,
      "id": "4fb606e7",
      "metadata": {
        "colab": {
          "base_uri": "https://localhost:8080/"
        },
        "id": "4fb606e7",
        "outputId": "3459585d-f447-4e2f-94c6-d24e15eabb26"
      },
      "outputs": [
        {
          "output_type": "stream",
          "name": "stdout",
          "text": [
            "Mention sentiment accuracy: 0.9202334630350194\n"
          ]
        }
      ],
      "source": [
        "sentiment_accuracy(fully_matched_pairs)"
      ]
    },
    {
      "cell_type": "markdown",
      "id": "e60cf752",
      "metadata": {
        "id": "e60cf752"
      },
      "source": [
        "Accuracy по частично совпавшим упоминаниям:"
      ]
    },
    {
      "cell_type": "code",
      "execution_count": 10,
      "id": "8dd77f7a",
      "metadata": {
        "colab": {
          "base_uri": "https://localhost:8080/"
        },
        "id": "8dd77f7a",
        "outputId": "77bd7920-60da-45fe-d8a3-23e336c07929"
      },
      "outputs": [
        {
          "output_type": "stream",
          "name": "stdout",
          "text": [
            "Mention sentiment accuracy: 0.8947368421052632\n"
          ]
        }
      ],
      "source": [
        "sentiment_accuracy(partially_matched_pairs)"
      ]
    },
    {
      "cell_type": "markdown",
      "id": "a3f284bf",
      "metadata": {
        "id": "a3f284bf"
      },
      "source": [
        "# Оценка 3: accuracy по тональности категории"
      ]
    },
    {
      "cell_type": "code",
      "execution_count": 11,
      "id": "28091f5d",
      "metadata": {
        "id": "28091f5d"
      },
      "outputs": [],
      "source": [
        "gold_test_cats_path = \"dev_cats.txt\"\n",
        "pred_test_cats_path = \"pred_full_results.txt\""
      ]
    },
    {
      "cell_type": "code",
      "execution_count": 14,
      "id": "7d8e5502",
      "metadata": {
        "id": "7d8e5502",
        "outputId": "c1944aa9-3f62-4c1f-a6ed-be1dd4a9250d",
        "colab": {
          "base_uri": "https://localhost:8080/"
        }
      },
      "outputs": [
        {
          "output_type": "stream",
          "name": "stdout",
          "text": [
            "Overall sentiment accuracy: 0.8084507042253521\n"
          ]
        }
      ],
      "source": [
        "with open(gold_test_cats_path) as gc, open(pred_test_cats_path) as pc:\n",
        "    gold_labels = set(gc.readlines())\n",
        "    pred_labels = set(pc.readlines())\n",
        "    print(\n",
        "        \"Overall sentiment accuracy:\",\n",
        "        len(gold_labels & pred_labels) / len(gold_labels)\n",
        "    )"
      ]
    }
  ],
  "metadata": {
    "kernelspec": {
      "display_name": "Python 3",
      "language": "python",
      "name": "python3"
    },
    "language_info": {
      "codemirror_mode": {
        "name": "ipython",
        "version": 3
      },
      "file_extension": ".py",
      "mimetype": "text/x-python",
      "name": "python",
      "nbconvert_exporter": "python",
      "pygments_lexer": "ipython3",
      "version": "3.9.4"
    },
    "colab": {
      "provenance": []
    }
  },
  "nbformat": 4,
  "nbformat_minor": 5
}